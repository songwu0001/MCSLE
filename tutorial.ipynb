{
 "cells": [
  {
   "cell_type": "code",
   "execution_count": 3,
   "metadata": {
    "collapsed": true,
    "ExecuteTime": {
     "end_time": "2024-04-07T10:40:02.077364800Z",
     "start_time": "2024-04-07T10:40:02.057352100Z"
    }
   },
   "outputs": [],
   "source": [
    "from mcbsle import Pixel2Region, CameraNet"
   ]
  },
  {
   "cell_type": "code",
   "execution_count": 4,
   "outputs": [],
   "source": [
    "# the code below creates the virtual cameras and computes the mapping from a pixel location to a spatial polygon using the proposed \"PixelToRegion\" algorithm\n",
    "# as in the paper, the video/image resolution taken by a camera is assumed to be 1920 x 1080 pixels. It can be changed to others as needed.\n",
    "cameras = [Pixel2Region(cam, [1920, 1080], 10000) for cam in Pixel2Region.getCameras(\"Copenhagen-3c-1km/params.csv\")]"
   ],
   "metadata": {
    "collapsed": false,
    "ExecuteTime": {
     "end_time": "2024-04-07T10:40:49.368421300Z",
     "start_time": "2024-04-07T10:40:04.492519200Z"
    }
   }
  },
  {
   "cell_type": "code",
   "execution_count": 5,
   "outputs": [],
   "source": [
    "# check the monitored area by each camera\n",
    "for cam in cameras:\n",
    "    print(cam.getMonitorArea())"
   ],
   "metadata": {
    "collapsed": false,
    "ExecuteTime": {
     "end_time": "2024-04-07T10:40:53.417419800Z",
     "start_time": "2024-04-07T10:40:53.405139500Z"
    }
   }
  },
  {
   "cell_type": "code",
   "execution_count": 6,
   "outputs": [
    {
     "name": "stdout",
     "output_type": "stream",
     "text": [
      "beyond horizontal field of view\n",
      "beyond horizontal field of view\n",
      "beyond horizontal field of view\n"
     ]
    }
   ],
   "source": [
    "# the 4 lon/lat points below are the imaginary ship locations which are located inside the monitored area by cameras.\n",
    "p1 = (12.728606, 55.707617)\n",
    "p2 = (12.706787, 55.713933)\n",
    "p3 = (12.683701, 55.719224)\n",
    "p4 = (12.731140, 55.672962)\n",
    "\n",
    "# compute pixels of the points p1,p2,p3,p4 for each camera, in this example there are 3 cameras\n",
    "pixelsS = [[], [], []]\n",
    "for p in [p1, p2, p3, p4]:\n",
    "    pixels = [pixel2region.visual_transform_perspective(*p) for pixel2region in cameras]\n",
    "    for index,pixel in enumerate(pixels):\n",
    "        if pixel is not None and cameras[index].isValid(*pixel):\n",
    "            pixelsS[index].append(pixel)\n",
    "\n",
    "# remove duplicates in pixels for each camera\n",
    "pixelsS = [set(_) for _ in pixelsS]"
   ],
   "metadata": {
    "collapsed": false,
    "ExecuteTime": {
     "end_time": "2024-04-07T10:40:57.118367600Z",
     "start_time": "2024-04-07T10:40:57.078665Z"
    }
   }
  },
  {
   "cell_type": "code",
   "execution_count": 7,
   "outputs": [
    {
     "name": "stdout",
     "output_type": "stream",
     "text": [
      "[(12.706712803044281, 55.71390286011672), (12.728642323070812, 55.70763688567313), (12.683781422120699, 55.71926583528201), (12.733605634803961, 55.67276156724893)]\n"
     ]
    }
   ],
   "source": [
    "# the code below estimates the ship locations based on the pixels\n",
    "camNet = CameraNet(cameras)\n",
    "print(camNet.guessLonLat(pixelsS))"
   ],
   "metadata": {
    "collapsed": false,
    "ExecuteTime": {
     "end_time": "2024-04-07T10:41:00.661563100Z",
     "start_time": "2024-04-07T10:41:00.445159900Z"
    }
   }
  },
  {
   "cell_type": "code",
   "execution_count": 8,
   "outputs": [
    {
     "name": "stdout",
     "output_type": "stream",
     "text": [
      "[(12.706712803044281, 55.71390286011672), <POLYGON ((12.707 55.714, 12.707 55.714, 12.707 55.714, 12.707 55.714, 12.70...>, {'2,910,494', '1,590,494', '0,270,494'}]\n"
     ]
    }
   ],
   "source": [
    "# to return more details, pass True as the second parameter\n",
    "# the returned value contains the corresponding polygon for each location estimation, as well as the pixel combination that leads to this location estimation\n",
    "# e.g. '1,590,494' refers to the pixel (590, 494) in the second camera, and '0,270,494' refers  to the pixel (270, 494) in the first camera.\n",
    "print(camNet.guessLonLat(pixelsS, True)[0])"
   ],
   "metadata": {
    "collapsed": false,
    "ExecuteTime": {
     "end_time": "2024-04-07T10:41:04.364598200Z",
     "start_time": "2024-04-07T10:41:04.207662200Z"
    }
   }
  },
  {
   "cell_type": "code",
   "execution_count": null,
   "outputs": [],
   "source": [],
   "metadata": {
    "collapsed": false
   }
  }
 ],
 "metadata": {
  "kernelspec": {
   "display_name": "Python 3",
   "language": "python",
   "name": "python3"
  },
  "language_info": {
   "codemirror_mode": {
    "name": "ipython",
    "version": 2
   },
   "file_extension": ".py",
   "mimetype": "text/x-python",
   "name": "python",
   "nbconvert_exporter": "python",
   "pygments_lexer": "ipython2",
   "version": "2.7.6"
  }
 },
 "nbformat": 4,
 "nbformat_minor": 0
}
